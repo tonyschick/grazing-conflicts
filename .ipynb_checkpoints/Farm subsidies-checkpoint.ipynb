{
 "cells": [
  {
   "cell_type": "code",
   "execution_count": 29,
   "metadata": {
    "collapsed": true
   },
   "outputs": [],
   "source": [
    "import mechanize, time, datetime, urllib2, csv, re\n",
    "from BeautifulSoup import *"
   ]
  },
  {
   "cell_type": "markdown",
   "metadata": {},
   "source": [
    "### Livestock subsidies by Western counties\n",
    "----"
   ]
  },
  {
   "cell_type": "code",
   "execution_count": 35,
   "metadata": {
    "collapsed": true
   },
   "outputs": [],
   "source": [
    "states = {\"Montana\": \"30\", \"Wyoming\": \"56\", \"Colorado\": \"08\", \"New Mexico\": \"35\", \"Idaho\": \"16\", \"Utah\": \"49\", \"Arizona\": \"04\", \"Nevada\": \"32\", \"Washington\": \"53\", \"Oregon\": \"41\", \"California\": \"06\"}               "
   ]
  },
  {
   "cell_type": "code",
   "execution_count": 36,
   "metadata": {
    "collapsed": false
   },
   "outputs": [],
   "source": [
    "new_csv = open(\"county-livestock-subsidides.csv\", \"a\")\n",
    "edit_csv = csv.writer(new_csv)\n",
    "\n",
    "county_livestock_headers = ['County', 'Total_Subsidies', 'Pct_Total', 'Running_Pct']\n",
    "\n",
    "edit_csv.writerow(county_livestock_headers)"
   ]
  },
  {
   "cell_type": "code",
   "execution_count": 37,
   "metadata": {
    "collapsed": false
   },
   "outputs": [
    {
     "name": "stdout",
     "output_type": "stream",
     "text": [
      "Finished scraping Utah\n",
      "Finished scraping Wyoming\n",
      "Finished scraping New Mexico\n",
      "Finished scraping Idaho\n",
      "Finished scraping Arizona\n",
      "Finished scraping Colorado\n",
      "Finished scraping Washington\n",
      "Finished scraping Oregon\n",
      "Finished scraping Montana\n",
      "Finished scraping California\n",
      "Finished scraping Nevada\n"
     ]
    }
   ],
   "source": [
    "for key, value in states.iteritems():\n",
    "\n",
    "    address = \"http://farm.ewg.org/progdetail.php?fips={}000&progcode=livestock&page=county\".format(value)\n",
    "    html = urllib2.urlopen(address).read()\n",
    "    soup = BeautifulSoup(html)\n",
    "    \n",
    "    county_table = soup.find(\"table\", { \"class\" : \"reciptable\" })\n",
    "    \n",
    "    for tr in county_table.findAll(\"tr\", { \"valign\" : \"center\" }):\n",
    "        output_row = []\n",
    "        \n",
    "        tds = tr.findAll(\"td\")\n",
    "        \n",
    "        if len(\"td\") > 0:\n",
    "            for td in tds[1:]:\n",
    "                output_row.append(td.text)  \n",
    "                \n",
    "        if len(output_row) > 0:\n",
    "            edit_csv.writerow(output_row)\n",
    "\n",
    "    print \"Finished scraping {}\".format(key)\n",
    "    \n",
    "new_csv.close()"
   ]
  },
  {
   "cell_type": "code",
   "execution_count": 38,
   "metadata": {
    "collapsed": false
   },
   "outputs": [],
   "source": [
    "import pandas as pd\n",
    "import numpy as np"
   ]
  },
  {
   "cell_type": "code",
   "execution_count": 51,
   "metadata": {
    "collapsed": false
   },
   "outputs": [],
   "source": [
    "county_subsidy_file = \"county-livestock-subsidides.csv\"\n",
    "countysubs = pd.read_csv(county_subsidy_file)"
   ]
  },
  {
   "cell_type": "code",
   "execution_count": 52,
   "metadata": {
    "collapsed": false
   },
   "outputs": [],
   "source": [
    "#Convert that nasty currency string into a number we can use\n",
    "#countysubs['Total_Subsidies'] = countysubs['Total_Subsidies'].map(lambda x: x.lstrip('$')).str.replace(r',', '').astype(int)"
   ]
  },
  {
   "cell_type": "code",
   "execution_count": null,
   "metadata": {
    "collapsed": false
   },
   "outputs": [],
   "source": []
  },
  {
   "cell_type": "code",
   "execution_count": null,
   "metadata": {
    "collapsed": true
   },
   "outputs": [],
   "source": []
  }
 ],
 "metadata": {
  "kernelspec": {
   "display_name": "Python 2",
   "language": "python",
   "name": "python2"
  },
  "language_info": {
   "codemirror_mode": {
    "name": "ipython",
    "version": 2
   },
   "file_extension": ".py",
   "mimetype": "text/x-python",
   "name": "python",
   "nbconvert_exporter": "python",
   "pygments_lexer": "ipython2",
   "version": "2.7.10"
  }
 },
 "nbformat": 4,
 "nbformat_minor": 0
}
